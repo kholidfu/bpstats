{
 "metadata": {
  "name": "bpstats"
 },
 "nbformat": 3,
 "nbformat_minor": 0,
 "worksheets": [
  {
   "cells": [
    {
     "cell_type": "code",
     "collapsed": false,
     "input": [
      "import pandas as pd\n",
      "import matplotlib.pyplot as plt\n",
      "import numpy as np\n",
      "df = pd.read_csv(\"data.csv\", header=None)"
     ],
     "language": "python",
     "metadata": {},
     "outputs": [],
     "prompt_number": 19
    },
    {
     "cell_type": "code",
     "collapsed": false,
     "input": [
      "df.columns = [\"Provinsi\"] + range(1, 13)"
     ],
     "language": "python",
     "metadata": {},
     "outputs": [],
     "prompt_number": 20
    },
    {
     "cell_type": "code",
     "collapsed": false,
     "input": [
      "df.columns = [\"Provinsi\", \"2009|L\", \"2010|L\", \"2011|L\", \"2012|L\", \"2009|P\", \"2010|P\", \"2011|P\", \"2012|P\", \"2009|T\", \"2010|T\", \"2011|T\", \"2012|T\"]"
     ],
     "language": "python",
     "metadata": {},
     "outputs": [],
     "prompt_number": 21
    },
    {
     "cell_type": "code",
     "collapsed": false,
     "input": [
      "df = df.set_index([\"Provinsi\"])"
     ],
     "language": "python",
     "metadata": {},
     "outputs": [],
     "prompt_number": 22
    },
    {
     "cell_type": "code",
     "collapsed": false,
     "input": [
      "#df"
     ],
     "language": "python",
     "metadata": {},
     "outputs": [],
     "prompt_number": 23
    },
    {
     "cell_type": "code",
     "collapsed": false,
     "input": [
      "df2 = pd.DataFrame(df, columns=['2012|L', '2012|P']) # atau\n",
      "#df2 = df[['2012|L', '2012|P']]\n",
      "df2 = df2.sort(['2012|L', '2012|P'], ascending=False) # sorting data"
     ],
     "language": "python",
     "metadata": {},
     "outputs": [],
     "prompt_number": 24
    },
    {
     "cell_type": "code",
     "collapsed": false,
     "input": [
      "ax = df2.plot(\n",
      "        kind='barh',\n",
      "        stacked=True,\n",
      "        title=\"Persentase Penduduk menurut Provinsi dan Jenis Kelamin 2012\",\n",
      "        fontsize=\"10\",\n",
      "        legend=False\n",
      "    )\n",
      "patches, labels = ax.get_legend_handles_labels()\n",
      "ax.legend(patches, ['Laki-laki', 'Perempuan'], loc='best')"
     ],
     "language": "python",
     "metadata": {},
     "outputs": [
      {
       "output_type": "pyout",
       "prompt_number": 25,
       "text": [
        "<matplotlib.legend.Legend at 0x9d7864c>"
       ]
      }
     ],
     "prompt_number": 25
    },
    {
     "cell_type": "code",
     "collapsed": false,
     "input": [],
     "language": "python",
     "metadata": {},
     "outputs": [],
     "prompt_number": 25
    },
    {
     "cell_type": "code",
     "collapsed": false,
     "input": [
      "plt.show()"
     ],
     "language": "python",
     "metadata": {},
     "outputs": [],
     "prompt_number": 26
    },
    {
     "cell_type": "code",
     "collapsed": false,
     "input": [
      "#df[['2012|L', '2012|P']]"
     ],
     "language": "python",
     "metadata": {},
     "outputs": [],
     "prompt_number": 27
    },
    {
     "cell_type": "code",
     "collapsed": false,
     "input": [],
     "language": "python",
     "metadata": {},
     "outputs": [],
     "prompt_number": 27
    }
   ],
   "metadata": {}
  }
 ]
}